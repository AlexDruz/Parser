{
 "cells": [
  {
   "cell_type": "code",
   "execution_count": 45,
   "id": "6825ecd5",
   "metadata": {},
   "outputs": [
    {
     "name": "stdout",
     "output_type": "stream",
     "text": [
      "[<div class=\"house-specs d-flex fw-600 f-14 lh-19 align-items-start mb-3\">\n",
      "<div class=\"mr-5 flex-shrink-0\">Общая площадь, кв.м</div>\n",
      "<div>1 630,90</div>\n",
      "</div>, <div class=\"house-specs d-flex fw-600 f-14 lh-19 align-items-start mb-3\">\n",
      "<div class=\"mr-5 flex-shrink-0\">Общая площадь жилых помещений, кв.м</div>\n",
      "<div>1 440,00</div>\n",
      "</div>, <div class=\"house-specs d-flex fw-600 f-14 lh-19 align-items-start mb-3\">\n",
      "<div class=\"mr-5 flex-shrink-0\">Количество этажей, ед.</div>\n",
      "<div>3</div>\n",
      "</div>, <div class=\"house-specs d-flex fw-600 f-14 lh-19 align-items-start mb-3\">\n",
      "<div class=\"mr-5 flex-shrink-0\">Год ввода дома в эксплуатацию</div>\n",
      "<div>2013</div>\n",
      "</div>, <div class=\"house-specs d-flex fw-600 f-14 lh-19 align-items-start mb-3\">\n",
      "<div class=\"mr-5 flex-shrink-0\">Количество подъездов, ед.</div>\n",
      "<div>2</div>\n",
      "</div>, <div class=\"house-specs d-flex fw-600 f-14 lh-19 align-items-start mb-3\">\n",
      "<div class=\"mr-5 flex-shrink-0\">Количество лифтов, ед.</div>\n",
      "<div>0</div>\n",
      "</div>]\n",
      "\n",
      "Общая площадь, кв.м\n",
      "1 630,90\n",
      "\n",
      "\n",
      "Общая площадь жилых помещений, кв.м\n",
      "1 440,00\n",
      "\n",
      "\n",
      "Количество этажей, ед.\n",
      "3\n",
      "\n",
      "\n",
      "Год ввода дома в эксплуатацию\n",
      "2013\n",
      "\n",
      "\n",
      "Количество подъездов, ед.\n",
      "2\n",
      "\n",
      "\n",
      "Количество лифтов, ед.\n",
      "0\n",
      "\n"
     ]
    }
   ],
   "source": [
    "# Адрес,\n",
    "# Общая площадь кв.м,\n",
    "# Общая площадь жилых помещений, \n",
    "# Кол-во этажей,\n",
    "# Кол-во подъездов,\n",
    "# Кол-во жилых помещений,\n",
    "# Факт признания дома аварийным\n",
    "\n",
    "import requests\n",
    "from bs4 import BeautifulSoup\n",
    "\n",
    "URL = 'https://www.reformagkh.ru/myhouse/profile/view/8988956/'\n",
    "HEADERS = {'user-agent': 'Mozilla/5.0 (X11; Ubuntu; Linux x86_64; rv:85.0) Gecko/20100101 Firefox/85.0',\n",
    "           'accept': '*/*'}\n",
    "\n",
    "def get_html(url, params=None):\n",
    "    r = requests.get(url, headers=HEADERS, params=params)\n",
    "    return r\n",
    "\n",
    "\n",
    "def get_content(html):\n",
    "    soup = BeautifulSoup(html,'html.parser')\n",
    "    items = soup.find_all(class_='house-specs d-flex fw-600 f-14 lh-19 align-items-start mb-3')\n",
    "    print(items)\n",
    "    \n",
    "    house = []\n",
    "    for item in items:\n",
    "        print(item.get_text())\n",
    "    \n",
    "    \n",
    "def parse():\n",
    "    html = get_html(URL)\n",
    "    if html.status_code == 200:\n",
    "        get_content(html.text)\n",
    "    else:\n",
    "        print('Error')\n",
    "\n",
    "parse()"
   ]
  },
  {
   "cell_type": "code",
   "execution_count": null,
   "id": "1ae4e452",
   "metadata": {},
   "outputs": [],
   "source": [
    "for i in items:\n",
    "    print(i)"
   ]
  },
  {
   "cell_type": "code",
   "execution_count": 7,
   "id": "a7fcbce3",
   "metadata": {},
   "outputs": [
    {
     "name": "stdout",
     "output_type": "stream",
     "text": [
      "\u001b[31mERROR: Could not find a version that satisfies the requirement BeatifulSoup\u001b[0m\r\n",
      "\u001b[31mERROR: No matching distribution found for BeatifulSoup\u001b[0m\r\n"
     ]
    }
   ],
   "source": [
    "!pip install BeatifulSoup"
   ]
  },
  {
   "cell_type": "code",
   "execution_count": 8,
   "id": "43acc386",
   "metadata": {},
   "outputs": [
    {
     "name": "stdout",
     "output_type": "stream",
     "text": [
      "\u001b[31mERROR: Could not find a version that satisfies the requirement beatifulsoup4\u001b[0m\r\n",
      "\u001b[31mERROR: No matching distribution found for beatifulsoup4\u001b[0m\r\n"
     ]
    }
   ],
   "source": [
    "!pip install beatifulsoup4"
   ]
  },
  {
   "cell_type": "code",
   "execution_count": 9,
   "id": "e53d8ba4",
   "metadata": {},
   "outputs": [
    {
     "name": "stdout",
     "output_type": "stream",
     "text": [
      "Requirement already satisfied: beautifulsoup4 in /home/alex/anaconda3/lib/python3.8/site-packages (4.9.3)\r\n",
      "Requirement already satisfied: soupsieve>1.2 in /home/alex/anaconda3/lib/python3.8/site-packages (from beautifulsoup4) (2.2.1)\r\n"
     ]
    }
   ],
   "source": [
    "!pip install beautifulsoup4"
   ]
  },
  {
   "cell_type": "code",
   "execution_count": null,
   "id": "a310fc4d",
   "metadata": {},
   "outputs": [],
   "source": []
  }
 ],
 "metadata": {
  "kernelspec": {
   "display_name": "Python 3",
   "language": "python",
   "name": "python3"
  },
  "language_info": {
   "codemirror_mode": {
    "name": "ipython",
    "version": 3
   },
   "file_extension": ".py",
   "mimetype": "text/x-python",
   "name": "python",
   "nbconvert_exporter": "python",
   "pygments_lexer": "ipython3",
   "version": "3.8.8"
  }
 },
 "nbformat": 4,
 "nbformat_minor": 5
}
